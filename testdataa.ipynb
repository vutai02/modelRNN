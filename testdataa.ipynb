{
 "cells": [
  {
   "cell_type": "code",
   "execution_count": 5,
   "metadata": {},
   "outputs": [
    {
     "name": "stdout",
     "output_type": "stream",
     "text": [
      "num\n",
      "0    160\n",
      "1     54\n",
      "2     45\n",
      "3     35\n",
      "Name: count, dtype: int64\n",
      "Tổng số hàng: 294\n",
      "Tổng số cột: 14\n"
     ]
    }
   ],
   "source": [
    "import pandas as pd\n",
    "\n",
    "# Đọc tệp CSV\n",
    "df = pd.read_csv('data/processed_cleveland.csv')\n",
    "\n",
    "# Xóa các dòng có dấu chấm (?) trong các cột hoặc có giá trị num = 4\n",
    "df = df[df['num'] != 4]\n",
    "df = df[~df.apply(lambda row: row.astype(str).str.contains('\\?').any(), axis=1)] \n",
    "df = df.drop_duplicates()\n",
    "df = df.sort_values(by='num')\n",
    "\n",
    "num_counts = df['num'].value_counts().sort_index()\n",
    "print(num_counts)\n",
    "\n",
    "# Lưu lại tệp CSV đã được chỉnh sửa\n",
    "df.to_csv('data/heartdata.csv', index=False)\n",
    "print(f\"Tổng số hàng: {df.shape[0]}\")\n",
    "print(f\"Tổng số cột: {df.shape[1]}\")\n"
   ]
  }
 ],
 "metadata": {
  "kernelspec": {
   "display_name": "Python 3",
   "language": "python",
   "name": "python3"
  },
  "language_info": {
   "codemirror_mode": {
    "name": "ipython",
    "version": 3
   },
   "file_extension": ".py",
   "mimetype": "text/x-python",
   "name": "python",
   "nbconvert_exporter": "python",
   "pygments_lexer": "ipython3",
   "version": "3.10.11"
  }
 },
 "nbformat": 4,
 "nbformat_minor": 2
}
